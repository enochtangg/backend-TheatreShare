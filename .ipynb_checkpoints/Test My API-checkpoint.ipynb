{
 "cells": [
  {
   "cell_type": "code",
   "execution_count": 2,
   "metadata": {},
   "outputs": [],
   "source": [
    "import requests"
   ]
  },
  {
   "cell_type": "code",
   "execution_count": 4,
   "metadata": {},
   "outputs": [
    {
     "name": "stdout",
     "output_type": "stream",
     "text": [
      "{'token': '1b691a2cfa1759b48b9b16559eeed6de9818dbb8'}\n"
     ]
    }
   ],
   "source": [
    "api = 'http://localhost:8000/'\n",
    "username = 'enochtang'\n",
    "password = 'P@ssword123'\n",
    "\n",
    "# res = requests.post(api + 'get-token/', data=dict(username=username, password=password))\n",
    "# auth_token = res.json()['token']\n",
    "# headers = dict(Authorization='Token {}'.format(auth_token))\n",
    "\n",
    "# bucketlist_items = requests.get(api + 'bucketlists/', headers=headers)\n",
    "# print(bucketlist_items.json())\n",
    "\n",
    "res = requests.post(api + 'get-token/', data=dict(username=username, password=password))\n",
    "print(res.json())"
   ]
  },
  {
   "cell_type": "code",
   "execution_count": null,
   "metadata": {},
   "outputs": [],
   "source": []
  },
  {
   "cell_type": "code",
   "execution_count": null,
   "metadata": {},
   "outputs": [],
   "source": []
  }
 ],
 "metadata": {
  "kernelspec": {
   "display_name": "Python 3",
   "language": "python",
   "name": "python3"
  },
  "language_info": {
   "codemirror_mode": {
    "name": "ipython",
    "version": 3
   },
   "file_extension": ".py",
   "mimetype": "text/x-python",
   "name": "python",
   "nbconvert_exporter": "python",
   "pygments_lexer": "ipython3",
   "version": "3.6.4"
  }
 },
 "nbformat": 4,
 "nbformat_minor": 2
}
