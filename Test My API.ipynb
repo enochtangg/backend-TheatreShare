{
 "cells": [
  {
   "cell_type": "code",
   "execution_count": 3,
   "metadata": {},
   "outputs": [],
   "source": [
    "import requests"
   ]
  },
  {
   "cell_type": "code",
   "execution_count": 7,
   "metadata": {},
   "outputs": [
    {
     "name": "stdout",
     "output_type": "stream",
     "text": [
      "{'token': '96f4b8ba1b6f00f08890df3284cf13742b9fb628'}\n",
      "[{'id': 1, 'name': 'Tasty', 'owner': 'enochtang', 'date_created': '2018-05-03T00:27:28.413151Z', 'date_modified': '2018-05-03T00:27:28.413187Z', 'youtube_url': 'https://www.youtube.com/watch?v=TErySTMbFlk'}, {'id': 2, 'name': 'Hello', 'owner': 'enochtang', 'date_created': '2018-05-03T00:30:35.754186Z', 'date_modified': '2018-05-03T00:30:35.754214Z', 'youtube_url': '123'}, {'id': 3, 'name': 'Test', 'owner': 'enochtang', 'date_created': '2018-05-05T20:39:21.890668Z', 'date_modified': '2018-05-05T20:39:21.890723Z', 'youtube_url': 'test'}, {'id': 4, 'name': 'John Wick', 'owner': 'enochtang', 'date_created': '2018-05-05T20:39:55.703435Z', 'date_modified': '2018-05-05T20:39:55.703477Z', 'youtube_url': 'https://www.youtube.com/watch?v=RllJtOw0USI'}]\n",
      "\n",
      "[{'id': 1, 'name': 'Tasty', 'owner': 'enochtang', 'date_created': '2018-05-03T00:27:28.413151Z', 'date_modified': '2018-05-03T00:27:28.413187Z', 'youtube_url': 'https://www.youtube.com/watch?v=TErySTMbFlk'}, {'id': 2, 'name': 'Hello', 'owner': 'enochtang', 'date_created': '2018-05-03T00:30:35.754186Z', 'date_modified': '2018-05-03T00:30:35.754214Z', 'youtube_url': '123'}, {'id': 3, 'name': 'Test', 'owner': 'enochtang', 'date_created': '2018-05-05T20:39:21.890668Z', 'date_modified': '2018-05-05T20:39:21.890723Z', 'youtube_url': 'test'}, {'id': 4, 'name': 'John Wick', 'owner': 'enochtang', 'date_created': '2018-05-05T20:39:55.703435Z', 'date_modified': '2018-05-05T20:39:55.703477Z', 'youtube_url': 'https://www.youtube.com/watch?v=RllJtOw0USI'}]\n"
     ]
    }
   ],
   "source": [
    "api = 'http://localhost:8000/'\n",
    "username = 'enochtang'\n",
    "password = 'P@ssword123'\n",
    "\n",
    "res = requests.post(api + 'get-token/', data=dict(username=username, password=password))\n",
    "print(res.json())\n",
    "auth_token = res.json()['token']\n",
    "headers = dict(Authorization='Token {}'.format(auth_token))\n",
    "theatres = requests.get(api + 'theatres/', headers=headers)\n",
    "print(theatres.json())\n",
    "print('')\n",
    "\n",
    "params = dict(id=4)\n",
    "requests.delete(api + 'theatres/', headers=headers, data=params)\n",
    "theatres2 = requests.get(api + 'theatres/', headers=headers)\n",
    "print(theatres2.json())"
   ]
  },
  {
   "cell_type": "code",
   "execution_count": null,
   "metadata": {},
   "outputs": [],
   "source": []
  },
  {
   "cell_type": "code",
   "execution_count": null,
   "metadata": {},
   "outputs": [],
   "source": []
  }
 ],
 "metadata": {
  "kernelspec": {
   "display_name": "Python 3",
   "language": "python",
   "name": "python3"
  },
  "language_info": {
   "codemirror_mode": {
    "name": "ipython",
    "version": 3
   },
   "file_extension": ".py",
   "mimetype": "text/x-python",
   "name": "python",
   "nbconvert_exporter": "python",
   "pygments_lexer": "ipython3",
   "version": "3.6.4"
  }
 },
 "nbformat": 4,
 "nbformat_minor": 2
}
