{
 "cells": [
  {
   "cell_type": "code",
   "execution_count": 2,
   "metadata": {},
   "outputs": [],
   "source": [
    "import requests"
   ]
  },
  {
   "cell_type": "code",
   "execution_count": 3,
   "metadata": {},
   "outputs": [
    {
     "name": "stdout",
     "output_type": "stream",
     "text": [
      "[{'id': 1, 'name': 'John Wick', 'owner': 'enochtang', 'date_created': '2018-04-28T22:37:51.605073Z', 'date_modified': '2018-04-28T22:37:51.605151Z', 'action': True, 'tracking': 100.0}, {'id': 2, 'name': 'Star Wars', 'owner': 'enochtang', 'date_created': '2018-04-28T22:38:02.110768Z', 'date_modified': '2018-04-28T22:38:02.110798Z', 'action': False, 'tracking': 500.0}]\n"
     ]
    }
   ],
   "source": [
    "api = 'http://localhost:8000/'\n",
    "username = 'enochtang'\n",
    "password = 'P@ssword123'\n",
    "\n",
    "res = requests.post(api + 'get-token/', data=dict(username=username, password=password))\n",
    "auth_token = res.json()['token']\n",
    "headers = dict(Authorization='Token {}'.format(auth_token))\n",
    "\n",
    "theatres = requests.get(api + 'theatres/', headers=headers)\n",
    "print(theatres.json())\n"
   ]
  },
  {
   "cell_type": "code",
   "execution_count": null,
   "metadata": {},
   "outputs": [],
   "source": []
  },
  {
   "cell_type": "code",
   "execution_count": null,
   "metadata": {},
   "outputs": [],
   "source": []
  }
 ],
 "metadata": {
  "kernelspec": {
   "display_name": "Python 3",
   "language": "python",
   "name": "python3"
  },
  "language_info": {
   "codemirror_mode": {
    "name": "ipython",
    "version": 3
   },
   "file_extension": ".py",
   "mimetype": "text/x-python",
   "name": "python",
   "nbconvert_exporter": "python",
   "pygments_lexer": "ipython3",
   "version": "3.6.4"
  }
 },
 "nbformat": 4,
 "nbformat_minor": 2
}
